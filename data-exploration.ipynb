{
 "cells": [
  {
   "cell_type": "markdown",
   "id": "01be4726",
   "metadata": {},
   "source": [
    "# Introduccion a la exploracion de datos"
   ]
  },
  {
   "cell_type": "markdown",
   "id": "b42da6ce",
   "metadata": {},
   "source": [
    "## Cargamos las librerias y el dataset"
   ]
  },
  {
   "cell_type": "code",
   "execution_count": null,
   "id": "648fa74e",
   "metadata": {},
   "outputs": [],
   "source": [
    "import pandas as pd\n",
    "import os\n",
    "import matplotlib.pyplot as plt"
   ]
  },
  {
   "cell_type": "code",
   "execution_count": null,
   "id": "fa58eaec",
   "metadata": {},
   "outputs": [],
   "source": [
    "filename = \"dataset/titanic3.csv\"\n",
    "data = pd.read_csv(filename)"
   ]
  },
  {
   "cell_type": "markdown",
   "id": "428e6388",
   "metadata": {},
   "source": [
    "## Empezamos a revisar la data"
   ]
  },
  {
   "cell_type": "code",
   "execution_count": null,
   "id": "1490ca76",
   "metadata": {},
   "outputs": [],
   "source": [
    "data.head()"
   ]
  },
  {
   "cell_type": "code",
   "execution_count": null,
   "id": "533dd861",
   "metadata": {},
   "outputs": [],
   "source": [
    "data.head(20)"
   ]
  },
  {
   "cell_type": "code",
   "execution_count": null,
   "id": "ca796c08",
   "metadata": {},
   "outputs": [],
   "source": [
    "data.tail()"
   ]
  },
  {
   "cell_type": "code",
   "execution_count": null,
   "id": "ce8bf643",
   "metadata": {},
   "outputs": [],
   "source": [
    "data.columns.values"
   ]
  },
  {
   "cell_type": "code",
   "execution_count": null,
   "id": "e6abee8e",
   "metadata": {},
   "outputs": [],
   "source": [
    "data.shape"
   ]
  },
  {
   "cell_type": "code",
   "execution_count": null,
   "id": "e5fc4464",
   "metadata": {},
   "outputs": [],
   "source": [
    "data.describe()"
   ]
  },
  {
   "cell_type": "code",
   "execution_count": null,
   "id": "0412719b",
   "metadata": {},
   "outputs": [],
   "source": [
    "data.dtypes"
   ]
  },
  {
   "cell_type": "markdown",
   "id": "df26e56d",
   "metadata": {},
   "source": [
    "## Trabajamos la imputacion de datos"
   ]
  },
  {
   "cell_type": "code",
   "execution_count": null,
   "id": "576f0ece",
   "metadata": {},
   "outputs": [],
   "source": [
    "pd.isnull(data[\"age\"])"
   ]
  },
  {
   "cell_type": "code",
   "execution_count": null,
   "id": "a6601802",
   "metadata": {},
   "outputs": [],
   "source": [
    "pd.isnull(data[\"body\"]).values.ravel().sum()"
   ]
  },
  {
   "cell_type": "code",
   "execution_count": null,
   "id": "711461e0",
   "metadata": {},
   "outputs": [],
   "source": [
    "pd.notnull(data[\"body\"]).values.ravel().sum()"
   ]
  },
  {
   "cell_type": "code",
   "execution_count": null,
   "id": "db013fb5",
   "metadata": {},
   "outputs": [],
   "source": [
    "data.dropna(axis=0, how=\"all\")"
   ]
  },
  {
   "cell_type": "code",
   "execution_count": null,
   "id": "ce36ee37",
   "metadata": {},
   "outputs": [],
   "source": [
    "data.dropna(axis=0, how=\"any\")"
   ]
  },
  {
   "cell_type": "code",
   "execution_count": null,
   "id": "2715c72c",
   "metadata": {},
   "outputs": [],
   "source": [
    "data2 = data"
   ]
  },
  {
   "cell_type": "markdown",
   "id": "65ec7b70",
   "metadata": {},
   "source": [
    "### Reemplazamos todos los NaN por 0"
   ]
  },
  {
   "cell_type": "code",
   "execution_count": null,
   "id": "ac218944",
   "metadata": {},
   "outputs": [],
   "source": [
    "data2.fillna(0)"
   ]
  },
  {
   "cell_type": "code",
   "execution_count": null,
   "id": "8afa0964",
   "metadata": {},
   "outputs": [],
   "source": [
    "data2.head()"
   ]
  },
  {
   "cell_type": "code",
   "execution_count": null,
   "id": "878d10e5",
   "metadata": {},
   "outputs": [],
   "source": [
    "pd.isnull(data2[\"body\"]).values.ravel().sum()"
   ]
  },
  {
   "cell_type": "code",
   "execution_count": null,
   "id": "e853c9cb",
   "metadata": {},
   "outputs": [],
   "source": [
    "data2[\"body\"] = data2[\"body\"].fillna(\"Unidentified\")"
   ]
  },
  {
   "cell_type": "code",
   "execution_count": null,
   "id": "0e8388c1",
   "metadata": {},
   "outputs": [],
   "source": [
    "data2.head()"
   ]
  },
  {
   "cell_type": "code",
   "execution_count": null,
   "id": "e21842ff",
   "metadata": {},
   "outputs": [],
   "source": [
    "pd.isnull(data2[\"body\"]).values.ravel().sum()"
   ]
  },
  {
   "cell_type": "code",
   "execution_count": null,
   "id": "35074cf5",
   "metadata": {},
   "outputs": [],
   "source": [
    "pd.isnull(data2[\"age\"]).values.ravel().sum()"
   ]
  },
  {
   "cell_type": "code",
   "execution_count": null,
   "id": "8185c371",
   "metadata": {},
   "outputs": [],
   "source": [
    "data2[\"age\"].mean(skipna = True)"
   ]
  },
  {
   "cell_type": "code",
   "execution_count": null,
   "id": "edbc58fa",
   "metadata": {},
   "outputs": [],
   "source": [
    "data2[\"age\"] = data2[\"age\"].fillna(data2[\"age\"].mean(skipna = True))"
   ]
  },
  {
   "cell_type": "code",
   "execution_count": null,
   "id": "86633884",
   "metadata": {},
   "outputs": [],
   "source": [
    "data2[\"age\"].mean()"
   ]
  },
  {
   "cell_type": "code",
   "execution_count": null,
   "id": "79ebe4f8",
   "metadata": {},
   "outputs": [],
   "source": [
    "pd.isnull(data2[\"age\"]).values.ravel().sum()"
   ]
  },
  {
   "cell_type": "markdown",
   "id": "43013187",
   "metadata": {},
   "source": [
    "## Graficamos el histograma de edades"
   ]
  },
  {
   "cell_type": "code",
   "execution_count": null,
   "id": "235628ac",
   "metadata": {},
   "outputs": [],
   "source": [
    "%matplotlib inline\n",
    "plt.hist(data2[\"age\"])"
   ]
  },
  {
   "cell_type": "code",
   "execution_count": null,
   "id": "f7f0c3e8",
   "metadata": {},
   "outputs": [],
   "source": []
  }
 ],
 "metadata": {
  "kernelspec": {
   "display_name": "conda_python3",
   "language": "python",
   "name": "conda_python3"
  },
  "language_info": {
   "codemirror_mode": {
    "name": "ipython",
    "version": 3
   },
   "file_extension": ".py",
   "mimetype": "text/x-python",
   "name": "python",
   "nbconvert_exporter": "python",
   "pygments_lexer": "ipython3",
   "version": "3.6.13"
  }
 },
 "nbformat": 4,
 "nbformat_minor": 5
}
